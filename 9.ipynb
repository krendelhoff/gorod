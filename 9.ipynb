{
 "cells": [
  {
   "cell_type": "code",
   "execution_count": 1,
   "id": "external-salvation",
   "metadata": {},
   "outputs": [
    {
     "name": "stdout",
     "output_type": "stream",
     "text": [
      "a[1][2] = \n",
      "1\n",
      "a[1][3] = \n",
      "-5\n",
      "a[1][4] = \n",
      "4\n",
      "a[1][5] = \n",
      "0\n",
      "a[1][6] = \n",
      "1\n",
      "a[2][3] = \n",
      "1\n",
      "a[2][4] = \n",
      "-2\n",
      "a[2][5] = \n",
      "2\n",
      "a[2][6] = \n",
      "-1\n",
      "a[3][4] = \n",
      "6\n",
      "a[3][5] = \n",
      "-10\n",
      "a[3][6] = \n",
      "3\n",
      "a[4][5] = \n",
      "8\n",
      "a[4][6] = \n",
      "-1\n",
      "a[5][6] = \n",
      "-2\n"
     ]
    }
   ],
   "source": [
    "a = [[0 for j in range(0, 6)] for i in range(0, 6)]\n",
    "for i in range(0, 6):\n",
    "    for j in range(i+1, 6):\n",
    "        print(\"a[\"+str(i+1)+\"][\"+str(j+1)+\"] = \")\n",
    "        a[i][j] = int(input())/2\n",
    "        a[j][i] = -a[i][j]"
   ]
  },
  {
   "cell_type": "code",
   "execution_count": 3,
   "id": "pursuant-football",
   "metadata": {},
   "outputs": [
    {
     "data": {
      "text/plain": [
       "[   0  1/2 -5/2    2    0  1/2]\n",
       "[-1/2    0  1/2   -1    1 -1/2]\n",
       "[ 5/2 -1/2    0    3   -5  3/2]\n",
       "[  -2    1   -3    0    4 -1/2]\n",
       "[   0   -1    5   -4    0   -1]\n",
       "[-1/2  1/2 -3/2  1/2    1    0]"
      ]
     },
     "execution_count": 3,
     "metadata": {},
     "output_type": "execute_result"
    }
   ],
   "source": [
    "gram = matrix(QQ, a)\n",
    "gram"
   ]
  },
  {
   "cell_type": "code",
   "execution_count": 4,
   "id": "thirty-ireland",
   "metadata": {},
   "outputs": [
    {
     "data": {
      "text/plain": [
       "[ 1  0  0  1 -2  0]\n",
       "[ 0  1  0 -1  0  0]\n",
       "[ 0  0  1 -1  0  0]\n",
       "[ 0  0  0  0  0  1]\n",
       "[ 0  0  0  0  0  0]\n",
       "[ 0  0  0  0  0  0]"
      ]
     },
     "execution_count": 4,
     "metadata": {},
     "output_type": "execute_result"
    }
   ],
   "source": [
    "gram.echelon_form()"
   ]
  },
  {
   "cell_type": "code",
   "execution_count": null,
   "id": "southeast-disposal",
   "metadata": {},
   "outputs": [],
   "source": []
  }
 ],
 "metadata": {
  "kernelspec": {
   "display_name": "SageMath 9.2",
   "language": "sage",
   "name": "sagemath"
  },
  "language_info": {
   "codemirror_mode": {
    "name": "ipython",
    "version": 3
   },
   "file_extension": ".py",
   "mimetype": "text/x-python",
   "name": "python",
   "nbconvert_exporter": "python",
   "pygments_lexer": "ipython3",
   "version": "3.8.5"
  }
 },
 "nbformat": 4,
 "nbformat_minor": 5
}
