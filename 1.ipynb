{
 "cells": [
  {
   "cell_type": "code",
   "execution_count": 49,
   "id": "french-acting",
   "metadata": {},
   "outputs": [],
   "source": [
    "A = matrix(QQ, [[2,3,5],[-1,1,3],[-5,-1,2]])\n",
    "#B = matrix(QQ, [[1,-3,-5], [-3,9,14],[-1,4,10]])\n",
    "B = matrix(QQ, [[2,3,1],[7,13,-3],[-9,-19,10]])"
   ]
  },
  {
   "cell_type": "code",
   "execution_count": 50,
   "id": "engaging-immigration",
   "metadata": {},
   "outputs": [
    {
     "data": {
      "text/plain": [
       "(\n",
       "[ 2  3  5]  [  2   3   1]\n",
       "[-1  1  3]  [  7  13  -3]\n",
       "[-5 -1  2], [ -9 -19  10]\n",
       ")"
      ]
     },
     "execution_count": 50,
     "metadata": {},
     "output_type": "execute_result"
    }
   ],
   "source": [
    "A, B"
   ]
  },
  {
   "cell_type": "code",
   "execution_count": 51,
   "id": "manufactured-philippines",
   "metadata": {
    "scrolled": true
   },
   "outputs": [
    {
     "name": "stdout",
     "output_type": "stream",
     "text": [
      "Inverse:\n",
      "[  5 -11   4]\n",
      "[-13  29 -11]\n",
      "[  6 -13   5]\n",
      "Transpose:\n",
      "[ 2 -1 -5]\n",
      "[ 3  1 -1]\n",
      "[ 5  3  2]\n",
      "Inverse:\n",
      "[ 73 -49 -22]\n",
      "[-43  29  13]\n",
      "[-16  11   5]\n",
      "Transpose:\n",
      "[  2   7  -9]\n",
      "[  3  13 -19]\n",
      "[  1  -3  10]\n"
     ]
    },
    {
     "data": {
      "text/plain": [
       "(\n",
       "[-3 -4 -6]  [-23 -60  54]\n",
       "[ 6  9 14]  [ 14  37 -34]\n",
       "[-2 -4 -7], [  6  16 -15]\n",
       ")"
      ]
     },
     "execution_count": 51,
     "metadata": {},
     "output_type": "execute_result"
    }
   ],
   "source": [
    "def K(A):\n",
    "    print(\"Inverse:\")\n",
    "    print(A^-1)\n",
    "    print(\"Transpose:\")\n",
    "    print(A.transpose())\n",
    "    return (A^-1)*A.transpose()\n",
    "KA = K(A)\n",
    "KB = K(B)\n",
    "KA, KB"
   ]
  },
  {
   "cell_type": "code",
   "execution_count": 52,
   "id": "therapeutic-sauce",
   "metadata": {},
   "outputs": [
    {
     "name": "stdout",
     "output_type": "stream",
     "text": [
      "x^3 + x^2 - x - 1 x^3 + x^2 - x - 1\n"
     ]
    },
    {
     "data": {
      "text/plain": [
       "((x + 1)^2*(x - 1), (x + 1)^2*(x - 1))"
      ]
     },
     "execution_count": 52,
     "metadata": {},
     "output_type": "execute_result"
    }
   ],
   "source": [
    "pA(x) = KA.charpoly()\n",
    "pB(x) = KB.charpoly()\n",
    "print(pA(x), pB(x))\n",
    "pA(x).factor(), pB(x).factor()"
   ]
  },
  {
   "cell_type": "code",
   "execution_count": 53,
   "id": "eight-enemy",
   "metadata": {},
   "outputs": [
    {
     "name": "stdout",
     "output_type": "stream",
     "text": [
      "[(1, 1), (-1, 2)] [(1, 1), (-1, 2)]\n"
     ]
    }
   ],
   "source": [
    "rootsA = pA(x).roots()\n",
    "rootsB = pB(x).roots()\n",
    "print(rootsA, rootsB)"
   ]
  },
  {
   "cell_type": "code",
   "execution_count": 54,
   "id": "selective-cemetery",
   "metadata": {},
   "outputs": [],
   "source": [
    "dimAdict = dict()\n",
    "dimBdict = dict()"
   ]
  },
  {
   "cell_type": "code",
   "execution_count": 55,
   "id": "structural-syndrome",
   "metadata": {},
   "outputs": [
    {
     "name": "stdout",
     "output_type": "stream",
     "text": [
      "KA\n",
      "1 minused matrix\n",
      "[-4 -4 -6]\n",
      "[ 6  8 14]\n",
      "[-2 -4 -8]\n",
      "Reduced Echelon Form\n",
      "[  1   0  -1]\n",
      "[  0   1 5/2]\n",
      "[  0   0   0]\n",
      "-1 minused matrix\n",
      "[-2 -4 -6]\n",
      "[ 6 10 14]\n",
      "[-2 -4 -6]\n",
      "Reduced Echelon Form\n",
      "[ 1  0 -1]\n",
      "[ 0  1  2]\n",
      "[ 0  0  0]\n",
      "{1: 1, -1: 1}\n",
      "KB\n",
      "1 minused matrix\n",
      "[-24 -60  54]\n",
      "[ 14  36 -34]\n",
      "[  6  16 -16]\n",
      "Reduced Echelon Form\n",
      "[   1    0    4]\n",
      "[   0    1 -5/2]\n",
      "[   0    0    0]\n",
      "-1 minused matrix\n",
      "[-22 -60  54]\n",
      "[ 14  38 -34]\n",
      "[  6  16 -14]\n",
      "Reduced Echelon Form\n",
      "[ 1  0  3]\n",
      "[ 0  1 -2]\n",
      "[ 0  0  0]\n",
      "{1: 1, -1: 1}\n"
     ]
    }
   ],
   "source": [
    "def calc(A, name):\n",
    "    print(name)\n",
    "    for el in rootsA if name == \"KA\" else rootsB:\n",
    "        print(el[0], \"minused matrix\")\n",
    "        tmp = A - el[0]*matrix.identity(3)\n",
    "        print(tmp)\n",
    "        print(\"Reduced Echelon Form\")\n",
    "        print(tmp.echelon_form())\n",
    "        if name == \"KA\":\n",
    "            dimAdict[el[0]] = 3 - tmp.rank()\n",
    "        else:\n",
    "            dimBdict[el[0]] = 3 - tmp.rank()\n",
    "    print(dimAdict if name == \"KA\" else dimBdict)\n",
    "calc(KA, \"KA\")\n",
    "calc(KB, \"KB\")"
   ]
  },
  {
   "cell_type": "code",
   "execution_count": 56,
   "id": "difficult-looking",
   "metadata": {},
   "outputs": [
    {
     "data": {
      "text/plain": [
       "True"
      ]
     },
     "execution_count": 56,
     "metadata": {},
     "output_type": "execute_result"
    }
   ],
   "source": [
    "dimAdict == dimBdict"
   ]
  },
  {
   "cell_type": "code",
   "execution_count": 57,
   "id": "explicit-stopping",
   "metadata": {},
   "outputs": [
    {
     "name": "stdout",
     "output_type": "stream",
     "text": [
      "For check, jordan forms\n",
      "[ 1| 0  0]\n",
      "[--+-----]\n",
      "[ 0|-1  1]\n",
      "[ 0| 0 -1]\n",
      "----------------------\n",
      "[ 1| 0  0]\n",
      "[--+-----]\n",
      "[ 0|-1  1]\n",
      "[ 0| 0 -1]\n",
      "True\n"
     ]
    }
   ],
   "source": [
    "print(\"For check, jordan forms\")\n",
    "print(KA.jordan_form())\n",
    "print(\"----------------------\")\n",
    "print(KB.jordan_form())\n",
    "print(KA.jordan_form() == KB.jordan_form())"
   ]
  },
  {
   "cell_type": "code",
   "execution_count": null,
   "id": "faced-rider",
   "metadata": {},
   "outputs": [],
   "source": []
  },
  {
   "cell_type": "code",
   "execution_count": null,
   "id": "monetary-congress",
   "metadata": {},
   "outputs": [],
   "source": []
  },
  {
   "cell_type": "code",
   "execution_count": null,
   "id": "spread-performance",
   "metadata": {},
   "outputs": [],
   "source": []
  },
  {
   "cell_type": "code",
   "execution_count": null,
   "id": "expressed-commodity",
   "metadata": {},
   "outputs": [],
   "source": []
  },
  {
   "cell_type": "code",
   "execution_count": null,
   "id": "little-durham",
   "metadata": {},
   "outputs": [],
   "source": []
  }
 ],
 "metadata": {
  "kernelspec": {
   "display_name": "SageMath 9.2",
   "language": "sage",
   "name": "sagemath"
  },
  "language_info": {
   "codemirror_mode": {
    "name": "ipython",
    "version": 3
   },
   "file_extension": ".py",
   "mimetype": "text/x-python",
   "name": "python",
   "nbconvert_exporter": "python",
   "pygments_lexer": "ipython3",
   "version": "3.8.5"
  }
 },
 "nbformat": 4,
 "nbformat_minor": 5
}
