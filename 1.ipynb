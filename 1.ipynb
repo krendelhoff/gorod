{
 "cells": [
  {
   "cell_type": "code",
   "execution_count": 2,
   "id": "french-acting",
   "metadata": {},
   "outputs": [],
   "source": [
    "A = matrix(QQ, [[2,3,5],[-1,1,3],[-5,-1,2]])\n",
    "B = matrix(QQ, [[1,-3,-5], [-3,9,14],[-1,4,10]])"
   ]
  },
  {
   "cell_type": "code",
   "execution_count": 4,
   "id": "engaging-immigration",
   "metadata": {},
   "outputs": [
    {
     "data": {
      "text/plain": [
       "(\n",
       "[ 2  3  5]  [ 1 -3 -5]\n",
       "[-1  1  3]  [-3  9 14]\n",
       "[-5 -1  2], [-1  4 10]\n",
       ")"
      ]
     },
     "execution_count": 4,
     "metadata": {},
     "output_type": "execute_result"
    }
   ],
   "source": [
    "A, B"
   ]
  },
  {
   "cell_type": "code",
   "execution_count": 10,
   "id": "manufactured-philippines",
   "metadata": {
    "scrolled": true
   },
   "outputs": [
    {
     "name": "stdout",
     "output_type": "stream",
     "text": [
      "[  5 -11   4]\n",
      "[-13  29 -11]\n",
      "[  6 -13   5]\n",
      "[ 2 -1 -5]\n",
      "[ 3  1 -1]\n",
      "[ 5  3  2]\n",
      "[34 10  3]\n",
      "[16  5  1]\n",
      "[-3 -1  0]\n",
      "[ 1 -3 -1]\n",
      "[-3  9  4]\n",
      "[-5 14 10]\n"
     ]
    },
    {
     "data": {
      "text/plain": [
       "(\n",
       "[-3 -4 -6]  [-11  30  36]\n",
       "[ 6  9 14]  [ -4  11  14]\n",
       "[-2 -4 -7], [  0   0  -1]\n",
       ")"
      ]
     },
     "execution_count": 10,
     "metadata": {},
     "output_type": "execute_result"
    }
   ],
   "source": [
    "def K(A):\n",
    "    print(\"inverse:\", A^-1)\n",
    "    print(A.transpose())\n",
    "    return (A^-1)*A.transpose()\n",
    "K(A), K(B)"
   ]
  },
  {
   "cell_type": "code",
   "execution_count": null,
   "id": "therapeutic-sauce",
   "metadata": {},
   "outputs": [],
   "source": []
  }
 ],
 "metadata": {
  "kernelspec": {
   "display_name": "SageMath 9.2",
   "language": "sage",
   "name": "sagemath"
  },
  "language_info": {
   "codemirror_mode": {
    "name": "ipython",
    "version": 3
   },
   "file_extension": ".py",
   "mimetype": "text/x-python",
   "name": "python",
   "nbconvert_exporter": "python",
   "pygments_lexer": "ipython3",
   "version": "3.8.5"
  }
 },
 "nbformat": 4,
 "nbformat_minor": 5
}
