{
 "cells": [
  {
   "cell_type": "code",
   "execution_count": 1,
   "id": "forward-dayton",
   "metadata": {},
   "outputs": [],
   "source": [
    "from lib import *"
   ]
  },
  {
   "cell_type": "code",
   "execution_count": 2,
   "id": "protected-spare",
   "metadata": {},
   "outputs": [
    {
     "name": "stdout",
     "output_type": "stream",
     "text": [
      "a[1][1] = \n",
      "1\n",
      "a[1][2] = \n",
      "32/9\n",
      "a[1][3] = \n",
      "-16/9\n",
      "a[2][2] = \n",
      "-11/9\n",
      "a[2][3] = \n",
      "8/3\n",
      "a[3][3] = \n",
      "2/9\n",
      "a[1][1] = \n",
      "-1/3\n",
      "a[1][2] = \n",
      "-4\n",
      "a[1][3] = \n",
      "-8/3\n",
      "a[2][2] = \n",
      "-2/3\n",
      "a[2][3] = \n",
      "-4/3\n",
      "a[3][3] = \n",
      "1\n"
     ]
    },
    {
     "data": {
      "text/plain": [
       "(\n",
       "[    1  16/9  -8/9]  [-1/3   -2 -4/3]\n",
       "[ 16/9 -11/9   4/3]  [  -2 -2/3 -2/3]\n",
       "[ -8/9   4/3   2/9], [-4/3 -2/3    1]\n",
       ")"
      ]
     },
     "execution_count": 2,
     "metadata": {},
     "output_type": "execute_result"
    }
   ],
   "source": [
    "Q1 = matrix(QQ, sinp(3))\n",
    "Q2 = matrix(QQ, sinp(3))\n",
    "Q1, Q2"
   ]
  },
  {
   "cell_type": "code",
   "execution_count": 3,
   "id": "black-phrase",
   "metadata": {},
   "outputs": [
    {
     "name": "stdout",
     "output_type": "stream",
     "text": [
      "Линейная замена существует тогда и только тогда когда совпадают сигнатуры. Ортогональная - тогда и только тогда когда совпадют собственные числа с учетом кратностей.\n"
     ]
    }
   ],
   "source": [
    "print(\"Линейная замена существует тогда и только тогда когда совпадают сигнатуры. Ортогональная - тогда и только тогда когда совпадают собственные числа с учетом кратностей.\")"
   ]
  },
  {
   "cell_type": "code",
   "execution_count": null,
   "id": "civilian-boundary",
   "metadata": {},
   "outputs": [],
   "source": [
    "def calc(Q):\n",
    "    minors = list()\n",
    "    for i in range(0, 3):\n",
    "        minors.append(det(Q[[j for j in range(0, i+1)], [j for j in range(0, i+1)]]))\n",
    "        print(\"d\",i,\" = \", minors[i], sep='')"
   ]
  },
  {
   "cell_type": "code",
   "execution_count": null,
   "id": "later-functionality",
   "metadata": {},
   "outputs": [],
   "source": [
    "calc(Q1)"
   ]
  },
  {
   "cell_type": "code",
   "execution_count": null,
   "id": "accurate-scratch",
   "metadata": {},
   "outputs": [],
   "source": [
    "calc(Q2)"
   ]
  },
  {
   "cell_type": "code",
   "execution_count": null,
   "id": "detailed-chick",
   "metadata": {},
   "outputs": [],
   "source": [
    "q1(x) = Q1.charpoly()\n",
    "q2(x) = Q2.charpoly()\n",
    "print(q1(x), q2(x))\n",
    "print(q1(x).factor(), q2(x).factor())"
   ]
  },
  {
   "cell_type": "code",
   "execution_count": null,
   "id": "magnetic-guitar",
   "metadata": {},
   "outputs": [],
   "source": []
  }
 ],
 "metadata": {
  "kernelspec": {
   "display_name": "SageMath 9.2",
   "language": "sage",
   "name": "sagemath"
  },
  "language_info": {
   "codemirror_mode": {
    "name": "ipython",
    "version": 3
   },
   "file_extension": ".py",
   "mimetype": "text/x-python",
   "name": "python",
   "nbconvert_exporter": "python",
   "pygments_lexer": "ipython3",
   "version": "3.8.5"
  }
 },
 "nbformat": 4,
 "nbformat_minor": 5
}
