{
 "cells": [
  {
   "cell_type": "code",
   "execution_count": 1,
   "id": "satellite-precipitation",
   "metadata": {},
   "outputs": [],
   "source": [
    "from lib import *"
   ]
  },
  {
   "cell_type": "code",
   "execution_count": 2,
   "id": "appreciated-indian",
   "metadata": {},
   "outputs": [
    {
     "name": "stdout",
     "output_type": "stream",
     "text": [
      "a[1][1] = \n",
      "-4\n",
      "a[1][2] = \n",
      "20\n",
      "a[1][3] = \n",
      "4\n",
      "a[1][4] = \n",
      "-6\n",
      "a[2][2] = \n",
      "-25\n",
      "a[2][3] = \n",
      "-10\n",
      "a[2][4] = \n",
      "16\n",
      "a[3][3] = \n",
      "-2\n",
      "a[3][4] = \n",
      "2\n",
      "a[4][4] = \n",
      "-11\n"
     ]
    },
    {
     "data": {
      "text/plain": [
       "(\n",
       "[ -4  10   2  -3]               \n",
       "[ 10 -25  -5   8]               \n",
       "[  2  -5  -2   1]               \n",
       "[ -3   8   1 -11], (0, 3, 0, -7)\n",
       ")"
      ]
     },
     "execution_count": 2,
     "metadata": {},
     "output_type": "execute_result"
    }
   ],
   "source": [
    "Q = matrix(QQ, sinp(4))\n",
    "v = vector([0,3,0,-7])\n",
    "Q,v"
   ]
  },
  {
   "cell_type": "code",
   "execution_count": 3,
   "id": "changing-refrigerator",
   "metadata": {},
   "outputs": [
    {
     "name": "stdout",
     "output_type": "stream",
     "text": [
      "Ранг Q =  4\n",
      "det Q =  -1\n",
      "[1 0 0 0]\n",
      "[0 1 0 0]\n",
      "[0 0 1 0]\n",
      "[0 0 0 1]\n",
      "q(v,v) =  -1100\n"
     ]
    }
   ],
   "source": [
    "print(\"Ранг Q = \", rank(Q))\n",
    "print(\"det Q = \", det(Q))\n",
    "print(Q.echelon_form())\n",
    "print(\"q(v,v) = \", v*Q*v)"
   ]
  },
  {
   "cell_type": "code",
   "execution_count": 4,
   "id": "thorough-oakland",
   "metadata": {},
   "outputs": [
    {
     "name": "stdout",
     "output_type": "stream",
     "text": [
      "v анизотропен, Q невырождена => ограничение на ортогонал тоже\n"
     ]
    }
   ],
   "source": [
    "print(\"v анизотропен, Q невырождена => ограничение на ортогонал тоже\")"
   ]
  },
  {
   "cell_type": "code",
   "execution_count": 5,
   "id": "sitting-setting",
   "metadata": {},
   "outputs": [
    {
     "name": "stdout",
     "output_type": "stream",
     "text": [
      "d0 = -4\n",
      "d1 = 0\n",
      "d2 = 0\n",
      "d3 = -1\n"
     ]
    }
   ],
   "source": [
    "minors = list()\n",
    "for i in range(0, rank(Q)):\n",
    "    minors.append(det(Q[[j for j in range(0, i+1)], [j for j in range(0, i+1)]]))\n",
    "    print(\"d\",i,\" = \", minors[i], sep='')"
   ]
  },
  {
   "cell_type": "code",
   "execution_count": 6,
   "id": "copyrighted-patient",
   "metadata": {},
   "outputs": [
    {
     "name": "stdout",
     "output_type": "stream",
     "text": [
      "Если сигнатура Q = (p, m), то сигнатура ортогонала (p, m - 1) или (p - 1, m), в зависимости от знака sig(v)\n"
     ]
    }
   ],
   "source": [
    "print(\"Если сигнатура Q = (p, m), то сигнатура ортогонала (p, m - 1) или (p - 1, m), в зависимости от знака sig(v)\")"
   ]
  },
  {
   "cell_type": "code",
   "execution_count": null,
   "id": "communist-miniature",
   "metadata": {},
   "outputs": [],
   "source": []
  },
  {
   "cell_type": "code",
   "execution_count": null,
   "id": "dangerous-basic",
   "metadata": {},
   "outputs": [],
   "source": []
  },
  {
   "cell_type": "code",
   "execution_count": null,
   "id": "junior-probe",
   "metadata": {},
   "outputs": [],
   "source": []
  },
  {
   "cell_type": "code",
   "execution_count": null,
   "id": "short-drove",
   "metadata": {},
   "outputs": [],
   "source": []
  },
  {
   "cell_type": "code",
   "execution_count": null,
   "id": "perceived-sweet",
   "metadata": {},
   "outputs": [],
   "source": []
  }
 ],
 "metadata": {
  "kernelspec": {
   "display_name": "SageMath 9.2",
   "language": "sage",
   "name": "sagemath"
  },
  "language_info": {
   "codemirror_mode": {
    "name": "ipython",
    "version": 3
   },
   "file_extension": ".py",
   "mimetype": "text/x-python",
   "name": "python",
   "nbconvert_exporter": "python",
   "pygments_lexer": "ipython3",
   "version": "3.8.5"
  }
 },
 "nbformat": 4,
 "nbformat_minor": 5
}
