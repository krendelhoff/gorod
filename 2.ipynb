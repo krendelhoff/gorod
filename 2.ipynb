{
 "cells": [
  {
   "cell_type": "code",
   "execution_count": 3,
   "id": "sunrise-discussion",
   "metadata": {},
   "outputs": [],
   "source": [
    "from lib import *"
   ]
  },
  {
   "cell_type": "code",
   "execution_count": 7,
   "id": "fossil-wallet",
   "metadata": {},
   "outputs": [
    {
     "name": "stdout",
     "output_type": "stream",
     "text": [
      "a[1][2] = \n",
      "4\n",
      "a[1][3] = \n",
      "-2\n",
      "a[1][4] = \n",
      "-8\n",
      "a[2][3] = \n",
      "2\n",
      "a[2][4] = \n",
      "2\n",
      "a[3][4] = \n",
      "4\n",
      "a[1][1] = \n",
      "3\n",
      "a[1][2] = \n",
      "1\n",
      "a[1][3] = \n",
      "0\n",
      "a[1][4] = \n",
      "1\n",
      "a[2][1] = \n",
      "1\n",
      "a[2][2] = \n",
      "1\n",
      "a[2][3] = \n",
      "0\n",
      "a[2][4] = \n",
      "0\n"
     ]
    },
    {
     "data": {
      "text/plain": [
       "(\n",
       "[ 0  2 -1 -4]           \n",
       "[-2  0  1  1]           \n",
       "[ 1 -1  0  2]  [3 1 0 1]\n",
       "[ 4 -1 -2  0], [1 1 0 0]\n",
       ")"
      ]
     },
     "execution_count": 7,
     "metadata": {},
     "output_type": "execute_result"
    }
   ],
   "source": [
    "A = matrix(QQ, minp(4,4))\n",
    "S = matrix(QQ, minp(2,4))\n",
    "v = vector([-1,0,6,5])\n",
    "A, S"
   ]
  },
  {
   "cell_type": "code",
   "execution_count": 9,
   "id": "standing-crossing",
   "metadata": {},
   "outputs": [
    {
     "name": "stdout",
     "output_type": "stream",
     "text": [
      "[   1    0    0  1/2]\n",
      "[   0    1    0 -1/2]\n"
     ]
    },
    {
     "data": {
      "text/plain": [
       "[ 1 -1  0 -2]\n",
       "[ 0  0  1  0]"
      ]
     },
     "execution_count": 9,
     "metadata": {},
     "output_type": "execute_result"
    }
   ],
   "source": [
    "print(S.echelon_form())\n",
    "basis = matrix(QQ, kernel(S.transpose()).basis())\n",
    "basis"
   ]
  },
  {
   "cell_type": "code",
   "execution_count": 10,
   "id": "engaged-event",
   "metadata": {},
   "outputs": [
    {
     "data": {
      "text/plain": [
       "[ 0  2]\n",
       "[-2  0]"
      ]
     },
     "execution_count": 10,
     "metadata": {},
     "output_type": "execute_result"
    }
   ],
   "source": [
    "gram = basis*A*basis.transpose()\n",
    "gram"
   ]
  },
  {
   "cell_type": "code",
   "execution_count": 85,
   "id": "rocky-quilt",
   "metadata": {},
   "outputs": [
    {
     "name": "stdout",
     "output_type": "stream",
     "text": [
      "Не вырождена...\n"
     ]
    }
   ],
   "source": [
    "if det(gram) == 0:\n",
    "    print(\"Форма вырожденa!\")\n",
    "else:\n",
    "    print(\"Не вырождена...\")"
   ]
  },
  {
   "cell_type": "code",
   "execution_count": 12,
   "id": "desperate-integrity",
   "metadata": {},
   "outputs": [
    {
     "data": {
      "text/plain": [
       "[   0    0  1/2    0]\n",
       "[-1/2  1/2    0    1]"
      ]
     },
     "execution_count": 12,
     "metadata": {},
     "output_type": "execute_result"
    }
   ],
   "source": [
    "basisx = basis.transpose()*gram^-1\n",
    "basisx = basisx.transpose()\n",
    "basisx"
   ]
  },
  {
   "cell_type": "code",
   "execution_count": 13,
   "id": "toxic-steam",
   "metadata": {},
   "outputs": [
    {
     "name": "stdout",
     "output_type": "stream",
     "text": [
      "Проекция на U:\n",
      "(9/2, -9/2, 7/2, -9)\n",
      "Проекция на U ортогонал:\n",
      "(-11/2, 9/2, 5/2, 14)\n"
     ]
    }
   ],
   "source": [
    "rows = len(basis.rows())\n",
    "vu = vector([0,0,0,0])\n",
    "for i in range(0, rows):\n",
    "    vu += basis[i]*(basisx[i]*A*v)\n",
    "print(\"Проекция на U:\")\n",
    "print(vu)\n",
    "print(\"Проекция на U ортогонал:\")\n",
    "print(v - vu)"
   ]
  },
  {
   "cell_type": "code",
   "execution_count": null,
   "id": "wicked-ghana",
   "metadata": {},
   "outputs": [],
   "source": []
  },
  {
   "cell_type": "code",
   "execution_count": null,
   "id": "appointed-dairy",
   "metadata": {},
   "outputs": [],
   "source": []
  },
  {
   "cell_type": "code",
   "execution_count": null,
   "id": "ancient-holiday",
   "metadata": {},
   "outputs": [],
   "source": []
  }
 ],
 "metadata": {
  "kernelspec": {
   "display_name": "SageMath 9.2",
   "language": "sage",
   "name": "sagemath"
  },
  "language_info": {
   "codemirror_mode": {
    "name": "ipython",
    "version": 3
   },
   "file_extension": ".py",
   "mimetype": "text/x-python",
   "name": "python",
   "nbconvert_exporter": "python",
   "pygments_lexer": "ipython3",
   "version": "3.8.5"
  }
 },
 "nbformat": 4,
 "nbformat_minor": 5
}
