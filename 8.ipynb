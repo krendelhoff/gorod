{
 "cells": [
  {
   "cell_type": "code",
   "execution_count": 1,
   "id": "strategic-signature",
   "metadata": {},
   "outputs": [],
   "source": [
    "from lib import *"
   ]
  },
  {
   "cell_type": "code",
   "execution_count": 2,
   "id": "ancient-findings",
   "metadata": {},
   "outputs": [
    {
     "name": "stdout",
     "output_type": "stream",
     "text": [
      "a[1][1] = \n",
      "-3\n",
      "a[1][2] = \n",
      "10\n",
      "a[1][3] = \n",
      "4\n",
      "a[2][2] = \n",
      "-8\n",
      "a[2][3] = \n",
      "-6\n",
      "a[3][3] = \n",
      "-2\n"
     ]
    },
    {
     "data": {
      "text/plain": [
       "[-3  5  2]\n",
       "[ 5 -8 -3]\n",
       "[ 2 -3 -2]"
      ]
     },
     "execution_count": 2,
     "metadata": {},
     "output_type": "execute_result"
    }
   ],
   "source": [
    "Q = matrix(QQ, sinp(3))\n",
    "Q"
   ]
  },
  {
   "cell_type": "code",
   "execution_count": null,
   "id": "french-airport",
   "metadata": {},
   "outputs": [],
   "source": []
  }
 ],
 "metadata": {
  "kernelspec": {
   "display_name": "SageMath 9.2",
   "language": "sage",
   "name": "sagemath"
  },
  "language_info": {
   "codemirror_mode": {
    "name": "ipython",
    "version": 3
   },
   "file_extension": ".py",
   "mimetype": "text/x-python",
   "name": "python",
   "nbconvert_exporter": "python",
   "pygments_lexer": "ipython3",
   "version": "3.8.5"
  }
 },
 "nbformat": 4,
 "nbformat_minor": 5
}
